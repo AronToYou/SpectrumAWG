{
 "cells": [
  {
   "cell_type": "code",
   "execution_count": 20,
   "metadata": {},
   "outputs": [],
   "source": [
    "import numpy as np\n",
    "import matplotlib.pyplot as plt\n",
    "import h5py\n",
    "from os import listdir\n",
    "import multiprocessing as mp\n",
    "from multiprocessing.sharedctypes import RawArray\n",
    "from math import sin, pi\n",
    "from ctypes import c_int16"
   ]
  },
  {
   "cell_type": "code",
   "execution_count": 34,
   "metadata": {},
   "outputs": [
    {
     "name": "stdout",
     "output_type": "stream",
     "text": [
      "0\n",
      "1\n",
      "2\n",
      "3\n",
      "4\n",
      "5\n",
      "6\n",
      "7\n",
      "8\n",
      "9\n",
      "10\n"
     ]
    }
   ],
   "source": [
    "arr = RawArray(c_int16, 10)\n",
    "for i in range(10):\n",
    "    arr[i] = i\n",
    "    print(arr[i])\n",
    "\n",
    "def funk(arr):\n",
    "    print(len(arr))\n",
    "\n",
    "funk(arr)"
   ]
  },
  {
   "cell_type": "code",
   "execution_count": 3,
   "metadata": {},
   "outputs": [
    {
     "name": "stdout",
     "output_type": "stream",
     "text": [
      "['stable_A.h5py', 'stable_AB.h5py', 'stable_B.h5py', 'stable_BA.h5py', 'test.h5py']\n"
     ]
    }
   ],
   "source": [
    "files = [f for f in listdir('./') if f[-4:] == 'h5py']\n",
    "print(files)"
   ]
  },
  {
   "cell_type": "code",
   "execution_count": 4,
   "metadata": {},
   "outputs": [
    {
     "name": "stdout",
     "output_type": "stream",
     "text": [
      "dat\n",
      "[-5 -4 -3 -2 -1  0  1  2  3  4]\n",
      "udat\n",
      "[0 0 0 0 0 0 1 2 3 4]\n"
     ]
    }
   ],
   "source": [
    "f = h5py.File('test.h5py', 'w')\n",
    "\n",
    "dat = f.create_dataset('dat', shape=(10,), dtype='int16')\n",
    "udat = f.create_dataset('udat', shape=(10,), dtype='uint16')\n",
    "\n",
    "for i in range(10):\n",
    "    udat[i] = i-5\n",
    "    dat[i] = i-5\n",
    "\n",
    "f.close()\n",
    "f = h5py.File('test.h5py', 'r')\n",
    "                        \n",
    "for key in f.keys():\n",
    "    print(key)\n",
    "    print(f[key][()])\n",
    "f.close()"
   ]
  },
  {
   "cell_type": "code",
   "execution_count": 26,
   "metadata": {},
   "outputs": [],
   "source": [
    "MAX = (2**16 - 1)\n",
    "\n",
    "class Seg(mp.Process):\n",
    "    \n",
    "    def __init__(self, array):\n",
    "        super().__init__(args=(array))\n",
    "        \n",
    "    def run(self):\n",
    "        N = len(array)\n",
    "        for i in range(N):\n",
    "            array[i] = c_int16(MAX*sin(2*pi*i/N))\n",
    "        print(array)"
   ]
  },
  {
   "cell_type": "code",
   "execution_count": 28,
   "metadata": {},
   "outputs": [],
   "source": [
    "def targ(self, array):\n",
    "        N = len(array)\n",
    "        for i in range(N):\n",
    "            array[i] = c_int16(MAX*sin(2*pi*i/N))\n",
    "        print(array)"
   ]
  },
  {
   "cell_type": "code",
   "execution_count": 29,
   "metadata": {},
   "outputs": [
    {
     "name": "stdout",
     "output_type": "stream",
     "text": [
      "<multiprocessing.sharedctypes.c_short_Array_100 object at 0x0FF25B70>\n"
     ]
    },
    {
     "data": {
      "image/png": "[encoded data removed]",
      "text/plain": [
       "<Figure size 432x288 with 1 Axes>"
      ]
     },
     "metadata": {
      "needs_background": "light"
     },
     "output_type": "display_data"
    }
   ],
   "source": [
    "procs = []\n",
    "data = []\n",
    "for i in range(mp.cpu_count()):\n",
    "    dat = RawArray(c_int16, 100)\n",
    "    data.append(dat)\n",
    "    \n",
    "    p = mp.Process(target=targ, args=dat)\n",
    "    procs.append(p)\n",
    "    p.start()\n",
    "\n",
    "for p in procs:\n",
    "    p.join()\n",
    "d = data.pop()    \n",
    "print(d)\n",
    "plt.plot(d)\n",
    "plt.show()"
   ]
  },
  {
   "cell_type": "code",
   "execution_count": null,
   "metadata": {},
   "outputs": [],
   "source": []
  }
 ],
 "metadata": {
  "kernelspec": {
   "display_name": "Python 3",
   "language": "python",
   "name": "python3"
  },
  "language_info": {
   "codemirror_mode": {
    "name": "ipython",
    "version": 3
   },
   "file_extension": ".py",
   "mimetype": "text/x-python",
   "name": "python",
   "nbconvert_exporter": "python",
   "pygments_lexer": "ipython3",
   "version": "3.7.2"
  }
 },
 "nbformat": 4,
 "nbformat_minor": 2
}
