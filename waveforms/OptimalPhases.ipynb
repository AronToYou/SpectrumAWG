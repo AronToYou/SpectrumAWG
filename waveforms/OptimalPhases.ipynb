{
 "cells": [
  {
   "cell_type": "code",
   "execution_count": 1,
   "metadata": {},
   "outputs": [],
   "source": [
    "import numpy as np\n",
    "import matplotlib.pyplot as plt\n",
    "from matplotlib import rc\n",
    "from math import pi, sin, sqrt\n",
    "from multiprocessing import Pool, cpu_count, Queue\n",
    "%matplotlib inline\n",
    "\n",
    "rc('text', usetex=True)"
   ]
  },
  {
   "cell_type": "code",
   "execution_count": 23,
   "metadata": {},
   "outputs": [
    {
     "name": "stdout",
     "output_type": "stream",
     "text": [
      "[[1, 2], [3, 4]]\n",
      "[[[1 2]\n",
      "  [3 4]]\n",
      "\n",
      " [[1 2]\n",
      "  [3 4]]\n",
      "\n",
      " [[1 2]\n",
      "  [3 4]]]\n"
     ]
    }
   ],
   "source": [
    "T, sep, c = 5, 1, 90\n",
    "\n",
    "\n",
    "N = 1000 // sep\n",
    "samples = np.linspace(0, 1, N)  # Enough for 1 period (assuming integer c).\n",
    "freqs = np.array([c - (2*n + T-1)*sep/2 for n in range(T)])\n",
    "print(freqs)\n",
    "\n",
    "waves = np.outer(samples, freqs[1:T])\n",
    "wave = np.sin(np.multiply(freqs[0], samples))  # The first wave has no relative phase.\n",
    "\n",
    "def power(rolls):\n",
    "    phase_set = np.random.random((rolls, N, T-1))\n",
    "    waves = np.array([waves,]*rolls)\n",
    "    form = np.add(wave, np.sin(np.add(waves, phase_set)).transpose().sum(axis=0))   # Un-Normalized sum of waves\n",
    "    form = np.divide(form, form.max())                                           # Normalized for Max Peak\n",
    "\n",
    "    buf = sqrt(form.dot(form) / len(form))**2  # Proportional to Power (Vrms^2)"
   ]
  },
  {
   "cell_type": "code",
   "execution_count": 51,
   "metadata": {},
   "outputs": [
    {
     "name": "stdout",
     "output_type": "stream",
     "text": [
      "[[[0.80403805 0.63022519]]\n",
      "\n",
      " [[0.56238397 0.09809561]]\n",
      "\n",
      " [[0.5947957  0.90110561]]]\n",
      "[[[1 2]\n",
      "  [2 4]\n",
      "  [3 6]]\n",
      "\n",
      " [[1 2]\n",
      "  [2 4]\n",
      "  [3 6]]\n",
      "\n",
      " [[1 2]\n",
      "  [2 4]\n",
      "  [3 6]]]\n",
      "[[0.40450772 0.70225386 1.        ]\n",
      " [0.3681124  0.6840562  1.        ]\n",
      " [0.40722744 0.70361372 1.        ]]\n",
      "[0.40450772 0.70225386 1.        ]\n",
      "1.656786984993553\n",
      "[0.3681124 0.6840562 1.       ]\n",
      "1.6034396299102935\n",
      "[0.40722744 0.70361372 1.        ]\n",
      "1.6609064514821879\n"
     ]
    },
    {
     "data": {
      "text/plain": [
       "array([[0.82936229, 1.46806194, 2.10676159],\n",
       "       [0.80794132, 1.43005496, 2.05216861],\n",
       "       [0.83096302, 1.47090209, 2.11084116]])"
      ]
     },
     "execution_count": 51,
     "metadata": {},
     "output_type": "execute_result"
    }
   ],
   "source": [
    "core = np.array([[1, 2], [2, 4], [3, 6]])\n",
    "\n",
    "num = 3\n",
    "dat = np.array([core,]*num)\n",
    "\n",
    "phi = np.random.random((num, 1, 2))\n",
    "\n",
    "print(phi)\n",
    "print(dat)\n",
    "dat = np.add(dat, phi)\n",
    "dat = np.transpose(dat, axes=(0, 2, 1)).sum(axis=1)\n",
    "\n",
    "wav = np.array([1, 2, 3])\n",
    "dat = np.add(wav, dat)\n",
    "\n",
    "normed = np.divide(dat, np.expand_dims(dat.max(axis=1), axis=1))\n",
    "\n",
    "print(normed)\n",
    "\n",
    "for vec in normed:\n",
    "    print(vec)\n",
    "    print(vec.dot(vec))\n",
    "    \n",
    "normed.dot(normed)"
   ]
  },
  {
   "cell_type": "code",
   "execution_count": null,
   "metadata": {},
   "outputs": [],
   "source": [
    "N = 1000                  # Samples;  1MHz is periodic to 1000 samples, Fsamp = 1GHz\n",
    "C = 3                     # Cycles\n",
    "samples = np.linspace(0, C, C*1000)\n",
    "\n",
    "ntraps = 5\n",
    "spacings = 1              # MHz\n",
    "center = 81               # Mhz\n",
    "\n",
    "freqs = np.array([center - (2*n + ntraps-1)*spacing/2 for n in range(ntraps)])\n",
    "###########################\n",
    "\n",
    "\n",
    "def rat(waves, dat, phases):\n",
    "    dat = np.add(dat, np.sin(np.add(waves, phases)).transpose().sum(axis=0))\n",
    "    \n",
    "    peak = dat.max()\n",
    "    rms = sqrt(dat.dot(dat) / N)\n",
    "    return rms / peak\n",
    "\n",
    "def rat_plot(waves, dat, phases):\n",
    "    return np.add(dat, np.sin(np.add(waves, phases)).transpose().sum(axis=0))\n",
    "\n",
    "\n",
    "waves = np.outer(samples, freqs[1:ntraps], dtype=float)\n",
    "dat = np.sin(np.multiply(freqs[0], samples))  # The first wave has no relative phase.\n",
    "phases = np.random(ntraps-1)\n"
   ]
  },
  {
   "cell_type": "code",
   "execution_count": null,
   "metadata": {},
   "outputs": [],
   "source": [
    "a = np.array([[1, 2], [3, 4]])\n",
    "b = np.array([[5, 6], [7, 8]])\n",
    "\n",
    "for i in range(len(a.shape)):\n",
    "    print(np.concatenate([a, b], axis=i))\n",
    "    \n",
    "msg = '{:%}%\\n'.format(1 / len(a))\n",
    "if msg is not None:\n",
    "    print(msg)\n",
    "\n",
    "    \n",
    "a.dot(a)"
   ]
  },
  {
   "cell_type": "code",
   "execution_count": null,
   "metadata": {},
   "outputs": [],
   "source": [
    "N = 5\n",
    "sep = 1\n",
    "c = 90\n",
    "plot = True\n",
    "params = (N, sep, c, rolls, plot)\n",
    "\n",
    "\n",
    "find_optimal_fast(params)"
   ]
  },
  {
   "cell_type": "code",
   "execution_count": null,
   "metadata": {},
   "outputs": [],
   "source": [
    "ATTEMPS = 10\n",
    "N = 1000                  # Samples;  1MHz is periodic to 1000 samples, Fsamp = 1GHz\n",
    "samples = np.linspace(0, 1, N)\n",
    "\n",
    "ntraps = np.arange(15)\n",
    "spacings = [1, 0.5]              # MHz\n",
    "center = [80, 85, 90, 95, 100]   # Mhz\n",
    "\n",
    "def optimize_phase_sets(ntraps, spacing, center, rolls=10):\n",
    "    def params():\n",
    "        for i, N in enumerate(ntraps):\n",
    "            for j, sep in enumerate(spacings):\n",
    "                for k, c in enumerate(center):\n",
    "                    yield (N, sep, c)\n",
    "                \n",
    "    \n",
    "    pool = Pool(processes=cpu_count())\n",
    "    \n",
    "    for pool.map(find_optimal, params)\n",
    "\n",
    "###########################\n",
    "\n",
    "\n",
    "    \n",
    "        \n",
    "\n",
    "def intensity(waves, form, phases):\n",
    "    form = np.add(form, np.sin(np.add(waves, phases)).transpose().sum(axis=0))   # Un-Normalized sum of waves\n",
    "    form = np.divide(form, form.max())                                           # Normalized for Max Peak\n",
    "    \n",
    "    return sqrt(form.dot(form) / len(form))**2  # Proportional to Power (Vrms^2)\n",
    "        \n",
    "def waveform(waves, dat, phases):\n",
    "    dat = np.add(dat, np.sin(np.add(waves, phases)).transpose().sum(axis=0))\n",
    "    return np.divide(dat, dat.max())\n",
    "    \n",
    "freqs = np.array([center - (2*n + ntraps-1)*spacing/2 for n in range(ntraps)])\n",
    "\n",
    "waves = np.outer(samples, freqs[1:ntraps], dtype=float)\n",
    "dat = np.sin(np.multiply(freqs[0], samples))  # The first wave has no relative phase.\n",
    "phases = np.random(ntraps-1)\n"
   ]
  },
  {
   "cell_type": "code",
   "execution_count": null,
   "metadata": {},
   "outputs": [],
   "source": [
    "np.full((2,2), 3)"
   ]
  },
  {
   "cell_type": "code",
   "execution_count": null,
   "metadata": {},
   "outputs": [],
   "source": [
    "a = np.array([1, 2, 3])\n",
    "\n"
   ]
  },
  {
   "cell_type": "code",
   "execution_count": null,
   "metadata": {},
   "outputs": [],
   "source": [
    "a = np.ones((2,2))\n",
    "b = np.array([[[1, 2], [3, 4]], [[5, 6], [7, 8]]])\n",
    "\n",
    "np.outer(b, a)"
   ]
  },
  {
   "cell_type": "code",
   "execution_count": null,
   "metadata": {},
   "outputs": [],
   "source": [
    "import numpy as np\n",
    "\n",
    "a = np.array([[9, 1, 8], [2, 7, 3], [6, 4, 5]])\n",
    "b = np.array([3, 2, 1])\n",
    "\n",
    "print(np.add(a, b))\n",
    "print(np.add(a.transpose(), b))\n",
    "print(np.add(b, a).sum(axis=0))\n",
    "print(np.add(b, a.transpose()).sum(axis=0))\n",
    "\n",
    "\n",
    "np.sin(a)"
   ]
  },
  {
   "cell_type": "code",
   "execution_count": null,
   "metadata": {},
   "outputs": [],
   "source": [
    "phases = np.linspace(-2*pi, 2*pi, 100)\n",
    "workers = Pool(processes=cpu_count())\n",
    "\n",
    "results = []\n",
    "\n",
    "for p1 in phases: \n",
    "    args = [(p1, p2) for p2 in phases]\n",
    "    results.append(workers.map(rat, args))"
   ]
  },
  {
   "cell_type": "code",
   "execution_count": null,
   "metadata": {
    "scrolled": true
   },
   "outputs": [],
   "source": [
    "npi = np.linspace(-2, 2, 100)\n",
    "\n",
    "plt.figure(figsize=(8,5))\n",
    "plt.pcolor(npi, npi, results, cmap='Blues')\n",
    "plt.title(r\"$(A_{rms} / A_{max})$ for 80, 81, 82 MHz Superimposed\", fontsize=24)\n",
    "plt.xlabel(\"$\\phi_1 / \\pi$\", fontsize=25)\n",
    "plt.ylabel(\"$\\phi_2 / \\pi$\", fontsize=25)\n",
    "plt.xticks(fontsize=20)\n",
    "plt.yticks(fontsize=20)\n",
    "\n",
    "plt.subplots_adjust(top = 1.1, bottom = 0, right = 1, left = 0, \n",
    "            hspace = 0, wspace = 0)\n",
    "plt.margins(0,0)\n",
    "\n",
    "plt.savefig(\"phase_map.png\", bbox_inches = 'tight',\n",
    "    pad_inches = 0)\n",
    "\n",
    "plt.show()"
   ]
  }
 ],
 "metadata": {
  "kernelspec": {
   "display_name": "Python 3",
   "language": "python",
   "name": "python3"
  },
  "language_info": {
   "codemirror_mode": {
    "name": "ipython",
    "version": 3
   },
   "file_extension": ".py",
   "mimetype": "text/x-python",
   "name": "python",
   "nbconvert_exporter": "python",
   "pygments_lexer": "ipython3",
   "version": "3.7.4"
  }
 },
 "nbformat": 4,
 "nbformat_minor": 2
}
