{
 "cells": [
  {
   "cell_type": "code",
   "execution_count": 37,
   "metadata": {},
   "outputs": [],
   "source": [
    "import numpy as np\n",
    "import matplotlib.pyplot as plt\n",
    "import random\n",
    "from math import pi"
   ]
  },
  {
   "cell_type": "code",
   "execution_count": 31,
   "metadata": {},
   "outputs": [],
   "source": [
    "## volts_idx to volts ##\n",
    "volts = np.array([80, 150, 200, 250, 320, 400, 500, 600, 700])\n",
    "\n",
    "## frequency_idx to frequency ##\n",
    "freqs = np.array([80E6, 90E6, 100E6, 110E6, 120E6])\n",
    "\n",
    "## ntraps_idx to number of traps ##\n",
    "ntraps = np.array([1, 2, 5])\n",
    "\n",
    "## Data Matrix indexed as (ntraps_idx, frequency_idx, volts_idx) ##\n",
    "power = np.zeros((len(ntraps), len(freqs), len(volts)))  # RF Power (dBm)\n",
    "scope = np.zeros((len(ntraps), len(freqs), len(volts)))  # Signal Pk-Pk (V)"
   ]
  },
  {
   "cell_type": "code",
   "execution_count": 33,
   "metadata": {},
   "outputs": [],
   "source": [
    "### 1 Trap ###\n",
    "power[0][0][:5] = np.array([19.36,  24.85, 27.36, 29.29, 31.45])  # 80MHz\n",
    "power[0][1][:5] = np.array([19.16,  24.62, 27.12, 29.05, 31.16])  # 90MHz\n",
    "power[0][2][:5] = np.array([19.07,   24.5, 27.11,  28.9, 30.96])  # 100MHz\n",
    "power[0][3][:5] = np.array([18.84,   24.3,  26.8, 28.74, 30.87])  # 110MHz\n",
    "power[0][4][:5] = np.array([18.72,  24.15, 26.67, 28.59, 30.71])  # 120MHz\n",
    "\n",
    "scope[0][0][:5] = np.array([25, 48, 63, 80, 102])  # 80MHz\n",
    "scope[0][1][:5] = np.array([29, 49, 64, 81, 104])  # 90MHz\n",
    "scope[0][2][:5] = np.array([25, 47, 60, 76, 96])  # 100MHz\n",
    "scope[0][3][:5] = np.array([24, 45, 58, 72, 92])  # 110MHz\n",
    "scope[0][4][:5] = np.array([25, 44, 59, 72, 92])  # 120MHz"
   ]
  },
  {
   "cell_type": "code",
   "execution_count": null,
   "metadata": {},
   "outputs": [],
   "source": [
    "### 2 Traps ###\n",
    "power[1][0][:5] = np.array([])  # 80Mhz\n",
    "power[1][1][:5] = np.array([16.1, 21.58, 24.07, 25.99, 28.1])  # 90Mhz\n",
    "power[1][2][:5] = np.array([15.9, 21.38, 23.88, 25.79, 27.9])  # 100Mhz\n",
    "power[1][3][:5] = np.array([])  # 110Mhz\n",
    "power[1][4][:5] = np.array([])  # 120Mhz\n",
    "\n",
    "scope[1][0][:5] = np.array([])  # 80Mhz\n",
    "scope[1][1][:5] = np.array([28,   51, 67, 82, 105])  # 90Mhz\n",
    "scope[1][2][:5] = np.array([26.4, 46, 61, 76, 95])  # 100Mhz\n",
    "scope[1][3][:5] = np.array([])  # 110Mhz\n",
    "scope[1][4][:5] = np.array([])  # 120Mhz"
   ]
  },
  {
   "cell_type": "code",
   "execution_count": null,
   "metadata": {},
   "outputs": [],
   "source": [
    "### 5 Traps ###\n",
    "power[2][0][:6] = np.array([])  # 80Mhz\n",
    "power[2][1][:6] = np.array([])  # 90Mhz\n",
    "power[2][2][:6] = np.array([])  # 100Mhz\n",
    "power[2][3][:6] = np.array([])  # 110Mhz\n",
    "power[2][4][:6] = np.array([])  # 120Mhz\n",
    "\n",
    "scope[2][0][:6] = np.array([])  # 80Mhz\n",
    "scope[2][1][:6] = np.array([])  # 90Mhz\n",
    "scope[2][2][:6] = np.array([])  # 100Mhz\n",
    "scope[2][3][:6] = np.array([])  # 110Mhz\n",
    "scope[2][4][:6] = np.array([])  # 120Mhz"
   ]
  },
  {
   "cell_type": "code",
   "execution_count": null,
   "metadata": {},
   "outputs": [],
   "source": [
    "### 10 Traps ###\n",
    "power[3][0][:] = np.array([])  # 80Mhz\n",
    "power[3][1][:] = np.array([])  # 90Mhz\n",
    "power[3][2][:] = np.array([])  # 100Mhz\n",
    "power[3][3][:] = np.array([])  # 110Mhz\n",
    "power[3][4][:] = np.array([])  # 120Mhz\n",
    "\n",
    "scope[3][0][:] = np.array([])  # 80Mhz\n",
    "scope[3][1][:] = np.array([])  # 90Mhz\n",
    "scope[3][2][:] = np.array([])  # 100Mhz\n",
    "scope[3][3][:] = np.array([])  # 110Mhz\n",
    "scope[3][4][:] = np.array([])  # 120Mhz"
   ]
  },
  {
   "cell_type": "code",
   "execution_count": 27,
   "metadata": {},
   "outputs": [
    {
     "data": {
      "image/png": "[encoded data removed]",
      "text/plain": [
       "<Figure size 432x288 with 1 Axes>"
      ]
     },
     "metadata": {
      "needs_background": "light"
     },
     "output_type": "display_data"
    }
   ],
   "source": [
    "for i in range(len(freqs)):\n",
    "    mask = np.isfinite(power[i][:])\n",
    "    plt.plot(volts[mask], power[i][mask])\n",
    "plt.legend([\"%dMHz\" % (f/1E6) for f in freqs])\n",
    "plt.show()"
   ]
  },
  {
   "cell_type": "code",
   "execution_count": 39,
   "metadata": {},
   "outputs": [
    {
     "name": "stdout",
     "output_type": "stream",
     "text": [
      "[5.00543236421596, 6.067992488413261, 4.4916649537440225, 1.0869888300516788, 0.2704032176342145, 3.984092138928962, 6.2358359797102265, 0.3348993800033494, 3.7840918765752165, 4.159386610085919, 5.582372271748915, 3.172064872078055, 0.3036233592822149, 2.5253215153653312, 2.616102835635236, 5.6607047634418155, 3.0467658479123356, 5.533925360117242, 2.2358847389171506, 4.942662177022622]\n"
     ]
    }
   ],
   "source": [
    "r = [2*pi*random.random() for _ in range(20)]\n",
    "print(r)"
   ]
  }
 ],
 "metadata": {
  "kernelspec": {
   "display_name": "Python 3",
   "language": "python",
   "name": "python3"
  },
  "language_info": {
   "codemirror_mode": {
    "name": "ipython",
    "version": 3
   },
   "file_extension": ".py",
   "mimetype": "text/x-python",
   "name": "python",
   "nbconvert_exporter": "python",
   "pygments_lexer": "ipython3",
   "version": "3.7.4"
  }
 },
 "nbformat": 4,
 "nbformat_minor": 2
}
